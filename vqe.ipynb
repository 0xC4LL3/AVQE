{
 "cells": [
  {
   "cell_type": "code",
   "execution_count": 1,
   "id": "d0dfb5b0",
   "metadata": {},
   "outputs": [],
   "source": [
    "import matplotlib.pyplot as plt\n",
    "import numpy as np\n",
    "from scipy.optimize import minimize\n",
    " \n",
    "from qiskit.circuit.library import efficient_su2\n",
    "from qiskit.quantum_info import SparsePauliOp\n",
    "\n",
    "from qiskit_aer.primitives import EstimatorV2 as Estimator"
   ]
  },
  {
   "cell_type": "code",
   "execution_count": 2,
   "id": "bb60b32b",
   "metadata": {},
   "outputs": [],
   "source": [
    "hamiltonian = SparsePauliOp.from_list(\n",
    "    [(\"YZ\", 0.3980), (\"ZI\", -0.3980), (\"ZZ\", -0.0113), (\"XX\", 0.1810)]\n",
    ")"
   ]
  },
  {
   "cell_type": "code",
   "execution_count": 3,
   "id": "9a70c3ab",
   "metadata": {},
   "outputs": [
    {
     "data": {
      "image/png": "[encoded data removed]",
      "text/plain": [
       "<Figure size 1039.79x200.667 with 1 Axes>"
      ]
     },
     "execution_count": 3,
     "metadata": {},
     "output_type": "execute_result"
    }
   ],
   "source": [
    "ansatz = efficient_su2(hamiltonian.num_qubits)\n",
    "ansatz.decompose().draw(\"mpl\", style=\"iqp\")"
   ]
  },
  {
   "cell_type": "code",
   "execution_count": 4,
   "id": "12f9dd09",
   "metadata": {},
   "outputs": [
    {
     "data": {
      "text/plain": [
       "16"
      ]
     },
     "execution_count": 4,
     "metadata": {},
     "output_type": "execute_result"
    }
   ],
   "source": [
    "num_params = ansatz.num_parameters\n",
    "num_params"
   ]
  },
  {
   "cell_type": "code",
   "execution_count": 5,
   "id": "1221e6e5",
   "metadata": {},
   "outputs": [],
   "source": [
    "cost_history_dict = {\n",
    "    \"prev_vector\": None,\n",
    "    \"iters\": 0,\n",
    "    \"cost_history\": [],\n",
    "}"
   ]
  },
  {
   "cell_type": "code",
   "execution_count": 6,
   "id": "c13caebb",
   "metadata": {},
   "outputs": [],
   "source": [
    "def cost_func(params, ansatz, hamiltonian, estimator):\n",
    "    \"\"\"Return estimate of energy from estimator\n",
    " \n",
    "    Parameters:\n",
    "        params (ndarray): Array of ansatz parameters\n",
    "        ansatz (QuantumCircuit): Parameterized ansatz circuit\n",
    "        hamiltonian (SparsePauliOp): Operator representation of Hamiltonian\n",
    "        estimator (EstimatorV2): Estimator primitive instance\n",
    "        cost_history_dict: Dictionary for storing intermediate results\n",
    " \n",
    "    Returns:\n",
    "        float: Energy estimate\n",
    "    \"\"\"\n",
    "    pub = (ansatz, [hamiltonian], [params])\n",
    "    result = estimator.run(pubs=[pub]).result()\n",
    "    energy = result[0].data.evs[0]\n",
    " \n",
    "    cost_history_dict[\"iters\"] += 1\n",
    "    cost_history_dict[\"prev_vector\"] = params\n",
    "    cost_history_dict[\"cost_history\"].append(energy)\n",
    "    print(\n",
    "        f\"Iters. done: {cost_history_dict['iters']} [Current cost: {energy}]\"\n",
    "    )\n",
    " \n",
    "    return energy"
   ]
  },
  {
   "cell_type": "code",
   "execution_count": 7,
   "id": "33ebda8b",
   "metadata": {},
   "outputs": [
    {
     "data": {
      "text/plain": [
       "array([4.88668443, 5.68796633, 5.21800133, 1.50870127, 5.32252809,\n",
       "       3.01345301, 2.08113127, 5.84609181, 1.75791383, 6.16249339,\n",
       "       0.25143549, 0.16657998, 4.49395773, 5.76377238, 6.22229891,\n",
       "       2.42522444])"
      ]
     },
     "execution_count": 7,
     "metadata": {},
     "output_type": "execute_result"
    }
   ],
   "source": [
    "x0 = 2 * np.pi * np.random.random(num_params)\n",
    "x0"
   ]
  },
  {
   "cell_type": "code",
   "execution_count": 8,
   "id": "f7b55ac4",
   "metadata": {},
   "outputs": [],
   "source": [
    "estimator = Estimator()\n",
    "estimator.options.run_options = {\n",
    "    \"shots\": 10_000\n",
    "}"
   ]
  },
  {
   "cell_type": "code",
   "execution_count": 9,
   "id": "83179578",
   "metadata": {},
   "outputs": [],
   "source": [
    "result = estimator.run(pubs=[(ansatz, [hamiltonian], [x0])]).result()"
   ]
  },
  {
   "cell_type": "code",
   "execution_count": 14,
   "id": "4848a370",
   "metadata": {},
   "outputs": [
    {
     "data": {
      "text/plain": [
       "np.float64(0.11359611551439086)"
      ]
     },
     "execution_count": 14,
     "metadata": {},
     "output_type": "execute_result"
    }
   ],
   "source": [
    "result[0].data.evs[0]"
   ]
  },
  {
   "cell_type": "code",
   "execution_count": 31,
   "id": "11175b6d",
   "metadata": {},
   "outputs": [
    {
     "name": "stdout",
     "output_type": "stream",
     "text": [
      "Iters. done: 1 [Current cost: 0.2089730485596065]\n",
      "Iters. done: 2 [Current cost: 0.007807262115177859]\n",
      "Iters. done: 3 [Current cost: -0.1500536013799645]\n",
      "Iters. done: 4 [Current cost: -0.1867465196568625]\n",
      "Iters. done: 5 [Current cost: -0.11777664263359157]\n",
      "Iters. done: 6 [Current cost: 0.03959180938065174]\n",
      "Iters. done: 7 [Current cost: -0.37562489627723583]\n",
      "Iters. done: 8 [Current cost: -0.38514215996296897]\n",
      "Iters. done: 9 [Current cost: -0.12627835621856573]\n",
      "Iters. done: 10 [Current cost: -0.3172579256446618]\n",
      "Iters. done: 11 [Current cost: -0.4060134068259464]\n",
      "Iters. done: 12 [Current cost: -0.45011094936029883]\n",
      "Iters. done: 13 [Current cost: -0.20281046065330974]\n",
      "Iters. done: 14 [Current cost: -0.3088910437665985]\n",
      "Iters. done: 15 [Current cost: -0.16845777427732184]\n",
      "Iters. done: 16 [Current cost: -0.4466428487321123]\n",
      "Iters. done: 17 [Current cost: -0.4067726658193442]\n",
      "Iters. done: 18 [Current cost: -0.2982341186555585]\n",
      "Iters. done: 19 [Current cost: -0.42834536838784787]\n",
      "Iters. done: 20 [Current cost: -0.3552433298835396]\n",
      "Iters. done: 21 [Current cost: -0.4186353933188394]\n",
      "Iters. done: 22 [Current cost: -0.3869220569172236]\n",
      "Iters. done: 23 [Current cost: -0.4479645923142428]\n",
      "Iters. done: 24 [Current cost: -0.29515998619439104]\n",
      "Iters. done: 25 [Current cost: -0.4564687871523381]\n",
      "Iters. done: 26 [Current cost: -0.44534106297994697]\n",
      "Iters. done: 27 [Current cost: -0.45900286064936946]\n",
      "Iters. done: 28 [Current cost: -0.45986904508629645]\n",
      "Iters. done: 29 [Current cost: -0.4462422053426167]\n",
      "Iters. done: 30 [Current cost: -0.46281680091965605]\n",
      "Iters. done: 31 [Current cost: -0.4855079529728068]\n",
      "Iters. done: 32 [Current cost: -0.5009959379430848]\n",
      "Iters. done: 33 [Current cost: -0.5093005472468258]\n",
      "Iters. done: 34 [Current cost: -0.5200140988848727]\n",
      "Iters. done: 35 [Current cost: -0.5265945681371272]\n",
      "Iters. done: 36 [Current cost: -0.5296116583923949]\n",
      "Iters. done: 37 [Current cost: -0.5322860930361387]\n",
      "Iters. done: 38 [Current cost: -0.5409144226225284]\n",
      "Iters. done: 39 [Current cost: -0.5401942240201761]\n",
      "Iters. done: 40 [Current cost: -0.5389205163736653]\n",
      "Iters. done: 41 [Current cost: -0.5370396663963013]\n",
      "Iters. done: 42 [Current cost: -0.5355508838573745]\n",
      "Iters. done: 43 [Current cost: -0.5527786925702111]\n",
      "Iters. done: 44 [Current cost: -0.5617235078499108]\n",
      "Iters. done: 45 [Current cost: -0.5665403698318358]\n",
      "Iters. done: 46 [Current cost: -0.5727368826671366]\n",
      "Iters. done: 47 [Current cost: -0.577544315643435]\n",
      "Iters. done: 48 [Current cost: -0.5744201692094726]\n",
      "Iters. done: 49 [Current cost: -0.5742651662149216]\n",
      "Iters. done: 50 [Current cost: -0.582813298679624]\n",
      "Iters. done: 51 [Current cost: -0.586354713754611]\n",
      "Iters. done: 52 [Current cost: -0.5943780381293193]\n",
      "Iters. done: 53 [Current cost: -0.596868915051659]\n",
      "Iters. done: 54 [Current cost: -0.6022489909602551]\n",
      "Iters. done: 55 [Current cost: -0.6027750382079697]\n",
      "Iters. done: 56 [Current cost: -0.6127554667594362]\n",
      "Iters. done: 57 [Current cost: -0.6248843079472344]\n",
      "Iters. done: 58 [Current cost: -0.633492350762298]\n",
      "Iters. done: 59 [Current cost: -0.6417166791510817]\n",
      "Iters. done: 60 [Current cost: -0.645178799461386]\n",
      "Iters. done: 61 [Current cost: -0.6537293435364449]\n",
      "Iters. done: 62 [Current cost: -0.6469302174837137]\n",
      "Iters. done: 63 [Current cost: -0.6526934477739615]\n",
      "Iters. done: 64 [Current cost: -0.6593420495332526]\n",
      "Iters. done: 65 [Current cost: -0.6638161112028935]\n",
      "Iters. done: 66 [Current cost: -0.6661421936479631]\n",
      "Iters. done: 67 [Current cost: -0.6661933097025883]\n",
      "Iters. done: 68 [Current cost: -0.6682997188647462]\n",
      "Iters. done: 69 [Current cost: -0.6704730990328951]\n",
      "Iters. done: 70 [Current cost: -0.675232366396193]\n",
      "Iters. done: 71 [Current cost: -0.6755533631916211]\n",
      "Iters. done: 72 [Current cost: -0.6764951661532725]\n",
      "Iters. done: 73 [Current cost: -0.6677926397030248]\n",
      "Iters. done: 74 [Current cost: -0.6726658080735919]\n",
      "Iters. done: 75 [Current cost: -0.6860870644325054]\n",
      "Iters. done: 76 [Current cost: -0.6913727363755904]\n",
      "Iters. done: 77 [Current cost: -0.6940999520006481]\n",
      "Iters. done: 78 [Current cost: -0.6925175604233879]\n",
      "Iters. done: 79 [Current cost: -0.6930154828707832]\n",
      "Iters. done: 80 [Current cost: -0.6882851290451895]\n",
      "Iters. done: 81 [Current cost: -0.6949214041855213]\n",
      "Iters. done: 82 [Current cost: -0.6961019424302057]\n",
      "Iters. done: 83 [Current cost: -0.6931529086543018]\n",
      "Iters. done: 84 [Current cost: -0.6954830965913761]\n",
      "Iters. done: 85 [Current cost: -0.6969222927454832]\n",
      "Iters. done: 86 [Current cost: -0.6994247942123852]\n",
      "Iters. done: 87 [Current cost: -0.6995668886888928]\n",
      "Iters. done: 88 [Current cost: -0.696075076482074]\n",
      "Iters. done: 89 [Current cost: -0.6993775271382101]\n",
      "Iters. done: 90 [Current cost: -0.6983377565727016]\n",
      "Iters. done: 91 [Current cost: -0.6996024262001457]\n",
      "Iters. done: 92 [Current cost: -0.6986487449802199]\n",
      "Iters. done: 93 [Current cost: -0.6986905848560165]\n",
      "Iters. done: 94 [Current cost: -0.6942313597574521]\n",
      "Iters. done: 95 [Current cost: -0.6990069674196011]\n",
      "Iters. done: 96 [Current cost: -0.7008628299998093]\n",
      "Iters. done: 97 [Current cost: -0.6956510466062953]\n",
      "Iters. done: 98 [Current cost: -0.7018067375317504]\n",
      "Iters. done: 99 [Current cost: -0.6993550161203494]\n",
      "Iters. done: 100 [Current cost: -0.7005217923846223]\n",
      "Iters. done: 101 [Current cost: -0.7006193778668053]\n",
      "Iters. done: 102 [Current cost: -0.7016528428976101]\n",
      "Iters. done: 103 [Current cost: -0.7018927525210518]\n",
      "Iters. done: 104 [Current cost: -0.701316148486167]\n",
      "Iters. done: 105 [Current cost: -0.7016897923550672]\n",
      "Iters. done: 106 [Current cost: -0.7009383881058502]\n",
      "Iters. done: 107 [Current cost: -0.7015674046034467]\n",
      "Iters. done: 108 [Current cost: -0.6996813903430811]\n",
      "Iters. done: 109 [Current cost: -0.700670943271635]\n",
      "Iters. done: 110 [Current cost: -0.7015887162306533]\n",
      "Iters. done: 111 [Current cost: -0.7010466789227934]\n",
      "Iters. done: 112 [Current cost: -0.7019056533272379]\n",
      "Iters. done: 113 [Current cost: -0.7019336929647952]\n",
      "Iters. done: 114 [Current cost: -0.7021223268353449]\n",
      "Iters. done: 115 [Current cost: -0.7023390347774059]\n",
      "Iters. done: 116 [Current cost: -0.7024896164473591]\n",
      "Iters. done: 117 [Current cost: -0.7024314335822023]\n",
      "Iters. done: 118 [Current cost: -0.7024773154108306]\n",
      "Iters. done: 119 [Current cost: -0.7025435598719526]\n",
      "Iters. done: 120 [Current cost: -0.7025462493527335]\n",
      "Iters. done: 121 [Current cost: -0.702529898797366]\n",
      "Iters. done: 122 [Current cost: -0.7024867179394538]\n",
      "Iters. done: 123 [Current cost: -0.7026094058745319]\n",
      "Iters. done: 124 [Current cost: -0.7026783258107564]\n",
      "Iters. done: 125 [Current cost: -0.7026559964546095]\n",
      "Iters. done: 126 [Current cost: -0.7026905282532347]\n",
      "Iters. done: 127 [Current cost: -0.7026974131865601]\n",
      "Iters. done: 128 [Current cost: -0.7027082782155903]\n",
      "Iters. done: 129 [Current cost: -0.7026488427502138]\n",
      "Iters. done: 130 [Current cost: -0.702702998897772]\n",
      "Iters. done: 131 [Current cost: -0.702738335007134]\n",
      "Iters. done: 132 [Current cost: -0.7027125940677101]\n",
      "Iters. done: 133 [Current cost: -0.7027188345134275]\n",
      "Iters. done: 134 [Current cost: -0.7027605800647868]\n",
      "Iters. done: 135 [Current cost: -0.7027187695973534]\n",
      "Iters. done: 136 [Current cost: -0.7027491535237973]\n",
      "Iters. done: 137 [Current cost: -0.7027877172802057]\n",
      "Iters. done: 138 [Current cost: -0.7028542411821114]\n",
      "Iters. done: 139 [Current cost: -0.7028542647595871]\n",
      "Iters. done: 140 [Current cost: -0.7028301206397611]\n",
      "Iters. done: 141 [Current cost: -0.7028574873088478]\n",
      "Iters. done: 142 [Current cost: -0.7028229210577159]\n",
      "Iters. done: 143 [Current cost: -0.702856149894473]\n",
      "Iters. done: 144 [Current cost: -0.7028616140324189]\n",
      "Iters. done: 145 [Current cost: -0.702883637104065]\n",
      "Iters. done: 146 [Current cost: -0.7028819244287015]\n",
      "Iters. done: 147 [Current cost: -0.7028931724610318]\n",
      "Iters. done: 148 [Current cost: -0.7028176936858425]\n",
      "Iters. done: 149 [Current cost: -0.7028865058699999]\n",
      "Iters. done: 150 [Current cost: -0.7029120237123077]\n",
      "Iters. done: 151 [Current cost: -0.7029030982352866]\n",
      "Iters. done: 152 [Current cost: -0.7029102197398466]\n",
      "Iters. done: 153 [Current cost: -0.7028937660114221]\n",
      "Iters. done: 154 [Current cost: -0.7029117934640716]\n",
      "Iters. done: 155 [Current cost: -0.7029013907958429]\n",
      "Iters. done: 156 [Current cost: -0.7028889041502836]\n",
      "Iters. done: 157 [Current cost: -0.7028954044029126]\n",
      "Iters. done: 158 [Current cost: -0.7029103257287685]\n",
      "Iters. done: 159 [Current cost: -0.702888966527566]\n",
      "Iters. done: 160 [Current cost: -0.702901485749452]\n",
      "Iters. done: 161 [Current cost: -0.7029145008582414]\n",
      "Iters. done: 162 [Current cost: -0.7028867357410037]\n",
      "Iters. done: 163 [Current cost: -0.7029169964262617]\n",
      "Iters. done: 164 [Current cost: -0.70289212564427]\n",
      "Iters. done: 165 [Current cost: -0.70291606957965]\n",
      "Iters. done: 166 [Current cost: -0.702924640896994]\n",
      "Iters. done: 167 [Current cost: -0.7029191560758725]\n",
      "Iters. done: 168 [Current cost: -0.7029234080675638]\n",
      "Iters. done: 169 [Current cost: -0.7029112827322981]\n",
      "Iters. done: 170 [Current cost: -0.7029175545415947]\n",
      "Iters. done: 171 [Current cost: -0.7028901857333851]\n",
      "Iters. done: 172 [Current cost: -0.7029258427761942]\n",
      "Iters. done: 173 [Current cost: -0.7029099715760734]\n",
      "Iters. done: 174 [Current cost: -0.7029228113650476]\n",
      "Iters. done: 175 [Current cost: -0.7029055206402693]\n",
      "Iters. done: 176 [Current cost: -0.7029235731128091]\n",
      "Iters. done: 177 [Current cost: -0.7028986325322037]\n",
      "Iters. done: 178 [Current cost: -0.7029094528179298]\n",
      "Iters. done: 179 [Current cost: -0.7029250722911857]\n",
      "Iters. done: 180 [Current cost: -0.702925450479814]\n",
      "Iters. done: 181 [Current cost: -0.7029253390619653]\n",
      "Iters. done: 182 [Current cost: -0.7029247265782947]\n",
      "Iters. done: 183 [Current cost: -0.7029255767230527]\n",
      "Iters. done: 184 [Current cost: -0.7029268672278021]\n",
      "Iters. done: 185 [Current cost: -0.7029269861981083]\n",
      "Iters. done: 186 [Current cost: -0.7029266366999856]\n",
      "Iters. done: 187 [Current cost: -0.7029274422297839]\n",
      "Iters. done: 188 [Current cost: -0.7029280869100147]\n",
      "Iters. done: 189 [Current cost: -0.7029274852476995]\n",
      "Iters. done: 190 [Current cost: -0.702927616779258]\n",
      "Iters. done: 191 [Current cost: -0.7029281534094571]\n",
      "Iters. done: 192 [Current cost: -0.7029274225068343]\n",
      "Iters. done: 193 [Current cost: -0.702927782615562]\n",
      "Iters. done: 194 [Current cost: -0.7029281417895128]\n",
      "Iters. done: 195 [Current cost: -0.7029280766301854]\n",
      "Iters. done: 196 [Current cost: -0.7029286276358715]\n",
      "Iters. done: 197 [Current cost: -0.7029279481176253]\n",
      "Iters. done: 198 [Current cost: -0.7029286119030171]\n",
      "Iters. done: 199 [Current cost: -0.7029283216324939]\n",
      "Iters. done: 200 [Current cost: -0.7029283135732761]\n",
      "Iters. done: 201 [Current cost: -0.7029280987350117]\n",
      "Iters. done: 202 [Current cost: -0.7029285337195569]\n",
      "Iters. done: 203 [Current cost: -0.7029292404469769]\n",
      "Iters. done: 204 [Current cost: -0.7029292147313392]\n",
      "Iters. done: 205 [Current cost: -0.7029290090006691]\n",
      "Iters. done: 206 [Current cost: -0.7029290587179448]\n",
      "Iters. done: 207 [Current cost: -0.7029291641582094]\n",
      "Iters. done: 208 [Current cost: -0.7029296265795442]\n",
      "Iters. done: 209 [Current cost: -0.7029289014373705]\n",
      "Iters. done: 210 [Current cost: -0.7029293876931622]\n",
      "Iters. done: 211 [Current cost: -0.7029299420831888]\n",
      "Iters. done: 212 [Current cost: -0.7029300113121802]\n",
      "Iters. done: 213 [Current cost: -0.7029300711004625]\n",
      "Iters. done: 214 [Current cost: -0.7029298474034988]\n",
      "Iters. done: 215 [Current cost: -0.7029299240279309]\n",
      "Iters. done: 216 [Current cost: -0.7029298573817995]\n",
      "Iters. done: 217 [Current cost: -0.7029300420454493]\n",
      "Iters. done: 218 [Current cost: -0.7029301639521194]\n",
      "Iters. done: 219 [Current cost: -0.7029301149838819]\n",
      "Iters. done: 220 [Current cost: -0.7029301537402718]\n",
      "Iters. done: 221 [Current cost: -0.7029298340960729]\n",
      "Iters. done: 222 [Current cost: -0.7029300822157882]\n",
      "Iters. done: 223 [Current cost: -0.7029300595078143]\n",
      "Iters. done: 224 [Current cost: -0.7029301179439353]\n",
      "Iters. done: 225 [Current cost: -0.7029302861245925]\n",
      "Iters. done: 226 [Current cost: -0.7029298320842352]\n",
      "Iters. done: 227 [Current cost: -0.7029303060693559]\n",
      "Iters. done: 228 [Current cost: -0.702929798604091]\n",
      "Iters. done: 229 [Current cost: -0.7029302546140683]\n",
      "Iters. done: 230 [Current cost: -0.7029300194247734]\n",
      "Iters. done: 231 [Current cost: -0.7029303301136443]\n",
      "Iters. done: 232 [Current cost: -0.7029303278226716]\n",
      "Iters. done: 233 [Current cost: -0.7029303276518288]\n",
      "Iters. done: 234 [Current cost: -0.7029303163910396]\n",
      "Iters. done: 235 [Current cost: -0.7029303383797922]\n",
      "Iters. done: 236 [Current cost: -0.7029303311013475]\n",
      "Iters. done: 237 [Current cost: -0.7029303300523565]\n",
      "Iters. done: 238 [Current cost: -0.7029303414480723]\n",
      "Iters. done: 239 [Current cost: -0.7029303476681678]\n",
      "Iters. done: 240 [Current cost: -0.7029303702542482]\n",
      "Iters. done: 241 [Current cost: -0.7029303701897209]\n",
      "Iters. done: 242 [Current cost: -0.7029303720048143]\n",
      "Iters. done: 243 [Current cost: -0.7029303811142553]\n",
      "Iters. done: 244 [Current cost: -0.7029303862755535]\n",
      "Iters. done: 245 [Current cost: -0.7029303872032234]\n",
      "Iters. done: 246 [Current cost: -0.70293039071675]\n",
      "Iters. done: 247 [Current cost: -0.7029303852581301]\n",
      "Iters. done: 248 [Current cost: -0.7029303892189674]\n",
      "Iters. done: 249 [Current cost: -0.7029303914425118]\n",
      "Iters. done: 250 [Current cost: -0.7029303873249955]\n",
      "Iters. done: 251 [Current cost: -0.7029303915719609]\n",
      "Iters. done: 252 [Current cost: -0.7029303888824842]\n",
      "Iters. done: 253 [Current cost: -0.7029303916298223]\n",
      "Iters. done: 254 [Current cost: -0.7029303911284015]\n",
      "Iters. done: 255 [Current cost: -0.7029303923095815]\n",
      "Iters. done: 256 [Current cost: -0.7029303930067653]\n",
      "Iters. done: 257 [Current cost: -0.702930387324978]\n",
      "Iters. done: 258 [Current cost: -0.7029303933750055]\n",
      "Iters. done: 259 [Current cost: -0.7029303905356925]\n",
      "Iters. done: 260 [Current cost: -0.70293039400642]\n",
      "Iters. done: 261 [Current cost: -0.7029303930166022]\n",
      "Iters. done: 262 [Current cost: -0.7029303941086794]\n",
      "Iters. done: 263 [Current cost: -0.7029303925599963]\n",
      "Iters. done: 264 [Current cost: -0.7029303938929096]\n",
      "Iters. done: 265 [Current cost: -0.7029303907502505]\n"
     ]
    }
   ],
   "source": [
    "res = minimize(\n",
    "    cost_func,\n",
    "    x0,\n",
    "    args=(ansatz, hamiltonian, estimator),\n",
    "    method=\"COBYLA\"\n",
    ")"
   ]
  },
  {
   "cell_type": "code",
   "execution_count": 32,
   "id": "32f54984",
   "metadata": {},
   "outputs": [
    {
     "data": {
      "text/plain": [
       " message: Return from COBYLA because the trust region radius reaches its lower bound.\n",
       " success: True\n",
       "  status: 0\n",
       "     fun: -0.7029303941086794\n",
       "       x: [ 4.980e+00  4.135e+00 ...  4.652e+00  1.629e+00]\n",
       "    nfev: 265\n",
       "   maxcv: 0.0"
      ]
     },
     "execution_count": 32,
     "metadata": {},
     "output_type": "execute_result"
    }
   ],
   "source": [
    "res"
   ]
  },
  {
   "cell_type": "code",
   "execution_count": 38,
   "id": "aa17ae48",
   "metadata": {},
   "outputs": [
    {
     "data": {
      "text/plain": [
       "array([ True,  True,  True,  True,  True, False,  True, False,  True,\n",
       "        True,  True, False,  True,  True,  True, False])"
      ]
     },
     "execution_count": 38,
     "metadata": {},
     "output_type": "execute_result"
    }
   ],
   "source": [
    "np.isclose(cost_history_dict[\"prev_vector\"], res.x)"
   ]
  },
  {
   "cell_type": "code",
   "execution_count": 36,
   "id": "6aafd9c6",
   "metadata": {},
   "outputs": [
    {
     "data": {
      "text/plain": [
       "np.True_"
      ]
     },
     "execution_count": 36,
     "metadata": {},
     "output_type": "execute_result"
    }
   ],
   "source": [
    "cost_history_dict[\"iters\"] == res.nfev"
   ]
  },
  {
   "cell_type": "code",
   "execution_count": 39,
   "id": "f2e3c617",
   "metadata": {},
   "outputs": [
    {
     "data": {
      "image/png": "[encoded data removed]",
      "text/plain": [
       "<Figure size 640x480 with 1 Axes>"
      ]
     },
     "metadata": {},
     "output_type": "display_data"
    }
   ],
   "source": [
    "fig, ax = plt.subplots()\n",
    "ax.plot(range(cost_history_dict[\"iters\"]), cost_history_dict[\"cost_history\"])\n",
    "ax.set_xlabel(\"Iterations\")\n",
    "ax.set_ylabel(\"Cost\")\n",
    "plt.draw()"
   ]
  }
 ],
 "metadata": {
  "kernelspec": {
   "display_name": ".venv",
   "language": "python",
   "name": "python3"
  },
  "language_info": {
   "codemirror_mode": {
    "name": "ipython",
    "version": 3
   },
   "file_extension": ".py",
   "mimetype": "text/x-python",
   "name": "python",
   "nbconvert_exporter": "python",
   "pygments_lexer": "ipython3",
   "version": "3.13.5"
  }
 },
 "nbformat": 4,
 "nbformat_minor": 5
}
