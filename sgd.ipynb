{
 "cells": [
  {
   "cell_type": "code",
   "execution_count": 1,
   "id": "0ec35f79",
   "metadata": {},
   "outputs": [],
   "source": [
    "import numpy as np\n",
    "from qiskit_aer.primitives import EstimatorV2 as Estimator\n",
    "from qiskit import QuantumCircuit\n",
    "from qiskit.circuit import ParameterVector\n",
    "from qiskit.quantum_info import SparsePauliOp"
   ]
  },
  {
   "cell_type": "code",
   "execution_count": null,
   "id": "bf9bf7bd",
   "metadata": {},
   "outputs": [],
   "source": [
    "class SGD:\n",
    "    \"\"\"Stochastic Gradient Descent optimizer with parameter shift method.\"\"\"\n",
    "\n",
    "    def __init__(self, ansatz, hamiltonian, estimator, learning_rate=0.01):\n",
    "        self.ansatz = ansatz\n",
    "        self.hamiltonian = hamiltonian\n",
    "        self.estimator = estimator\n",
    "        self.learning_rate = learning_rate\n",
    "\n",
    "    def minimize(self, initial_params, num_iterations=100):\n",
    "        params = initial_params\n",
    "        for i in range(num_iterations):\n",
    "            params = self.step(params)\n",
    "            if (i + 1) % 10 == 0:\n",
    "                cost = self.cost_function(params)\n",
    "                print(f\"Iteration {i+1}: Cost = {cost}\")\n",
    "        return params\n",
    "\n",
    "    def minimize_adaptive(self, initial_params, window_size=10, ef=1e-4, et=5e-4, num_iterations=100):\n",
    "        params = initial_params\n",
    "        cost_window = []\n",
    "        param_window = []\n",
    "        for i in range(num_iterations):\n",
    "            params = self.step(params)\n",
    "            cost = self.cost_function(params)\n",
    "            if (i + 1) % 10 == 0:\n",
    "                print(f\"Iteration {i+1}: Cost = {cost}\")\n",
    "\n",
    "            cost_window.append(cost)\n",
    "            param_window.append(params)\n",
    "            if i >= window_size:\n",
    "                energy_diff = abs(np.mean(cost_window[-window_size:]) - \n",
    "                                 np.mean(cost_window[-window_size-1:-1]))\n",
    "                param_diff = np.linalg.norm(\n",
    "                    np.mean(param_window[-window_size:], axis=0) - \n",
    "                    np.mean(param_window[-window_size-1:-1], axis=0)\n",
    "                )\n",
    "                \n",
    "                if energy_diff < ef or param_diff < et:\n",
    "                    break\n",
    "        return params\n",
    "\n",
    "    def step(self, params):\n",
    "        grad = self.parameter_shift_grad_v2(params)\n",
    "        return params - self.learning_rate * grad\n",
    "\n",
    "    def parameter_shift_grad(self, params):\n",
    "        grad = np.zeros(len(params))\n",
    "        for i in range(len(params)):\n",
    "            shifted = params.copy()\n",
    "            shifted[i] += np.pi/2\n",
    "            plus = self.cost_function(shifted)\n",
    "            \n",
    "            shifted = params.copy()\n",
    "            shifted[i] -= np.pi/2\n",
    "            minus = self.cost_function(shifted)\n",
    "            \n",
    "            grad[i] = 0.5 * (plus - minus)\n",
    "        return grad\n",
    "    \n",
    "    def parameter_shift_grad_v2(self, params):\n",
    "        n = len(params)\n",
    "        pubs = []\n",
    "        # build batch of plus/minus shifted parameters\n",
    "        for i in range(n):\n",
    "            plus = params.copy()\n",
    "            plus[i] += np.pi/2\n",
    "            pubs.append((self.ansatz, [self.hamiltonian], [plus]))\n",
    "            minus = params.copy()\n",
    "            minus[i] -= np.pi/2\n",
    "            pubs.append((self.ansatz, [self.hamiltonian], [minus]))\n",
    "        # run one batched call\n",
    "        results = self.estimator.run(pubs=pubs).result()\n",
    "        # extract energies and form gradient\n",
    "        grad = np.zeros(n)\n",
    "        for i in range(n):\n",
    "            e_plus = results[2*i].data.evs[0]\n",
    "            e_minus = results[2*i+1].data.evs[0]\n",
    "            grad[i] = 0.5 * (e_plus - e_minus)\n",
    "        return grad\n",
    "    \n",
    "    def cost_function(self, params):\n",
    "        pub = (self.ansatz, [self.hamiltonian], [params])\n",
    "        result = self.estimator.run(pubs=[pub]).result()[0]\n",
    "        return result.data.evs[0]"
   ]
  },
  {
   "cell_type": "code",
   "execution_count": 3,
   "id": "b6d4b3bf",
   "metadata": {},
   "outputs": [],
   "source": [
    "estimator = Estimator()\n",
    "estimator.options.run_options = {\"shots\": 10_000}"
   ]
  },
  {
   "cell_type": "code",
   "execution_count": 4,
   "id": "474c43c4",
   "metadata": {},
   "outputs": [],
   "source": [
    "def get_ansatz():\n",
    "    params = ParameterVector(\"θ\", 2)\n",
    "    ansatz = QuantumCircuit(2)\n",
    "    ansatz.h(0)\n",
    "    ansatz.cx(0, 1)\n",
    "    ansatz.rx(params[0], 0)\n",
    "    ansatz.ry(params[1], 1)\n",
    "    return ansatz"
   ]
  },
  {
   "cell_type": "code",
   "execution_count": 5,
   "id": "91747666",
   "metadata": {},
   "outputs": [],
   "source": [
    "ansatz = get_ansatz()\n",
    "num_params = ansatz.num_parameters"
   ]
  },
  {
   "cell_type": "code",
   "execution_count": 6,
   "id": "461aea7a",
   "metadata": {},
   "outputs": [],
   "source": [
    "hamiltonian = SparsePauliOp.from_list([(\"ZZ\", 1.0)])"
   ]
  },
  {
   "cell_type": "code",
   "execution_count": 24,
   "id": "d28db6d4",
   "metadata": {},
   "outputs": [],
   "source": [
    "optimizer = SGD(ansatz, hamiltonian, estimator, learning_rate=0.4)"
   ]
  },
  {
   "cell_type": "code",
   "execution_count": 19,
   "id": "e16af7ae",
   "metadata": {},
   "outputs": [],
   "source": [
    "params = 2 * np.pi * np.random.random([num_params])"
   ]
  },
  {
   "cell_type": "code",
   "execution_count": 25,
   "id": "b6441321",
   "metadata": {},
   "outputs": [
    {
     "name": "stdout",
     "output_type": "stream",
     "text": [
      "Initial parameters: [1.14368826 4.17852533]\n",
      "Initial cost: -0.21079167212100283\n",
      "Initial gradient: [0.4631507  0.35659778]\n"
     ]
    }
   ],
   "source": [
    "print(\"Initial parameters:\", params)\n",
    "print(\"Initial cost:\", optimizer.cost_function(params))\n",
    "print(\"Initial gradient:\", optimizer.parameter_shift_grad(params))"
   ]
  },
  {
   "cell_type": "code",
   "execution_count": 281,
   "id": "d2967832",
   "metadata": {},
   "outputs": [],
   "source": [
    "# for i in range(100):\n",
    "#     params = optimizer.step(params)\n",
    "#     if (i + 1) % 10 == 0:\n",
    "#         print(f\"Iteration {i+1}:\")\n",
    "#         # print(\"Parameters:\", params)\n",
    "#         print(\"Cost:\", optimizer.cost_function(params))\n",
    "#         # print(\"Gradient:\", optimizer.parameter_shift_grad(params))"
   ]
  },
  {
   "cell_type": "code",
   "execution_count": 15,
   "id": "33cd600e",
   "metadata": {},
   "outputs": [
    {
     "name": "stdout",
     "output_type": "stream",
     "text": [
      "Iteration 10: Cost = -0.98607766359862\n",
      "Iteration 20: Cost = -0.9999994843408506\n"
     ]
    },
    {
     "data": {
      "text/plain": [
       "array([2.17149700e-04, 3.14162369e+00])"
      ]
     },
     "execution_count": 15,
     "metadata": {},
     "output_type": "execute_result"
    }
   ],
   "source": [
    "optimizer.minimize_adaptive(params)"
   ]
  },
  {
   "cell_type": "code",
   "execution_count": 26,
   "id": "19814d5c",
   "metadata": {},
   "outputs": [
    {
     "name": "stdout",
     "output_type": "stream",
     "text": [
      "Iteration 10: Cost = -0.9996621944047803\n",
      "Iteration 20: Cost = -0.9999999876421086\n",
      "Iteration 30: Cost = -0.999999999999548\n",
      "Iteration 40: Cost = -1.0\n",
      "Iteration 50: Cost = -1.0\n",
      "Iteration 60: Cost = -1.0\n",
      "Iteration 70: Cost = -1.0\n",
      "Iteration 80: Cost = -1.0\n",
      "Iteration 90: Cost = -1.0\n",
      "Iteration 100: Cost = -1.0\n"
     ]
    },
    {
     "data": {
      "text/plain": [
       "array([7.55679330e-17, 3.14159265e+00])"
      ]
     },
     "execution_count": 26,
     "metadata": {},
     "output_type": "execute_result"
    }
   ],
   "source": [
    "optimizer.minimize(params)"
   ]
  }
 ],
 "metadata": {
  "kernelspec": {
   "display_name": ".venv",
   "language": "python",
   "name": "python3"
  },
  "language_info": {
   "codemirror_mode": {
    "name": "ipython",
    "version": 3
   },
   "file_extension": ".py",
   "mimetype": "text/x-python",
   "name": "python",
   "nbconvert_exporter": "python",
   "pygments_lexer": "ipython3",
   "version": "3.13.5"
  }
 },
 "nbformat": 4,
 "nbformat_minor": 5
}
